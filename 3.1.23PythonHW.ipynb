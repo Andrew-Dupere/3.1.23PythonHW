{
 "cells": [
  {
   "cell_type": "markdown",
   "metadata": {},
   "source": [
    "#### Exercise 1 - Class Inheritance"
   ]
  },
  {
   "cell_type": "markdown",
   "metadata": {},
   "source": [
    "Create an Employee class that sets an employee's first name, last name, job title, salary, and email. The Employee class should have a class attribute for the raise amount set to 5% (1.05). Create a method that will apply the raise to an employee's salary."
   ]
  },
  {
   "cell_type": "code",
   "execution_count": 31,
   "metadata": {},
   "outputs": [],
   "source": [
    "class Employee:\n",
    "    \n",
    "    raise_ = 1.05\n",
    "    \n",
    "    def __init__(self,first,last,title,salary,email):\n",
    "        self.first = first\n",
    "        self.last = last\n",
    "        self.title = title\n",
    "        self.salary= salary\n",
    "        self.email = email\n",
    "        \n",
    "    \n",
    "    def apply_raise_(self):\n",
    "        self.salary = (self.salary) * (self.raise_)\n",
    "        print(f\"{self.first} {self.last} salary has increased to {self.salary}\")"
   ]
  },
  {
   "cell_type": "markdown",
   "metadata": {},
   "source": [
    "Create two more classes that inherit from the Employee class. One for Sales and one for Development. Both of these classes will have the same attributes as the Employee.<br>\n",
    "- For the Sales employees, add a phone number attribute on instantiation using the super method. \n",
    "- Create a method on the Sales class that will Send a Follow Up Email. It should take in a customer name and \"send\" aka print a formatted email \"Dear *customer*, Thank you for your interest in our product. Please let me know if you have any questions. My email is *email* or my phone number is *phone number*. Thanks, *full name*\"\n",
    "- Create a method on the Development class called code that will print out \"*full name* is writing code\"."
   ]
  },
  {
   "cell_type": "code",
   "execution_count": 67,
   "metadata": {},
   "outputs": [],
   "source": [
    "class Sales(Employee):\n",
    "    \n",
    "    def __init__(self,first,last,title,salary,email,phone):\n",
    "        super().__init__(first,last,title,salary,email)\n",
    "        self.phone = phone\n",
    "        \n",
    "    def email_(self,customer):\n",
    "               \n",
    "        print(f\"\"\" Dear {customer},\n",
    "        Thank you for your interest in our product. Please let me know if you have any questions. \n",
    "        My email is {self.email} and my phonenumber is {self.phone}\n",
    "        Thanks,\n",
    "        {self.first} {self.last}        \n",
    "        \"\"\")\n",
    "\n",
    "class Dev(Employee):\n",
    "    \n",
    "    def __init__(self,first,last,title,salary,email):\n",
    "        super().__init__(first,last,title,salary,email)\n",
    "        \n",
    "    \n",
    "    def code(self):\n",
    "        print(f\"{self.first} {self.last} is writing code\")"
   ]
  },
  {
   "cell_type": "markdown",
   "metadata": {},
   "source": [
    "- Create an instance of a Sales Employee with a salary of $50,000.\n",
    "- Send follow up emails to \"Mike O'Neil\" and \"Hannah Stern\"\n",
    "- Give the employee a raise and print the salary"
   ]
  },
  {
   "cell_type": "code",
   "execution_count": 68,
   "metadata": {},
   "outputs": [
    {
     "name": "stdout",
     "output_type": "stream",
     "text": [
      " Dear Mike O'Neil,\n",
      "        Thank you for your interest in our product. Please let me know if you have any questions. \n",
      "        My email is andrewdupere@company.com and my phonenumber is 2813308004\n",
      "        Thanks,\n",
      "        Andrew Dupere        \n",
      "        \n",
      " Dear Hannah Stern,\n",
      "        Thank you for your interest in our product. Please let me know if you have any questions. \n",
      "        My email is andrewdupere@company.com and my phonenumber is 2813308004\n",
      "        Thanks,\n",
      "        Andrew Dupere        \n",
      "        \n",
      "Andrew Dupere salary has increased to 52500.0\n"
     ]
    }
   ],
   "source": [
    "salesPerson1 = Sales('Andrew','Dupere','Sales Rep',50000,'andrewdupere@company.com',2813308004)\n",
    "\n",
    "salesPerson1.email_(\"Mike O'Neil\")\n",
    "\n",
    "salesPerson1.email_(\"Hannah Stern\")\n",
    "\n",
    "salesPerson1.apply_raise_()"
   ]
  },
  {
   "cell_type": "markdown",
   "metadata": {},
   "source": [
    "- Create an instance of a Development Employee with a salary of $100,000\n",
    "- Write some code with this employee\n",
    "- Give the employee a raise and print the salary"
   ]
  },
  {
   "cell_type": "code",
   "execution_count": 69,
   "metadata": {},
   "outputs": [
    {
     "name": "stdout",
     "output_type": "stream",
     "text": [
      "Mark Smith is writing code\n",
      "Mark Smith salary has increased to 105000.0\n"
     ]
    }
   ],
   "source": [
    "dev1 = Dev('Mark','Smith','Engineer',100000,'marksmith@company.com')\n",
    "\n",
    "dev1.code()\n",
    "\n",
    "dev1.apply_raise_()"
   ]
  },
  {
   "cell_type": "markdown",
   "metadata": {},
   "source": [
    "#### Exercise 2 - Importing Modules"
   ]
  },
  {
   "cell_type": "markdown",
   "metadata": {},
   "source": [
    "In VS Code, create a module titled `geometry` and add two functions in there. One that will calculate the area of a circle given a radius. The second will find the hypotenuse of a right angle given the two sides. Import the module or the functions from the module and use it to find the answers to the below questions"
   ]
  },
  {
   "cell_type": "markdown",
   "metadata": {},
   "source": [
    "What is the area of a circle with a radius of 7cm?"
   ]
  },
  {
   "cell_type": "code",
   "execution_count": 71,
   "metadata": {},
   "outputs": [
    {
     "data": {
      "text/plain": [
       "154.0"
      ]
     },
     "execution_count": 71,
     "metadata": {},
     "output_type": "execute_result"
    }
   ],
   "source": [
    "import geometry as geo\n",
    "\n",
    "geo.circle_area(7)"
   ]
  },
  {
   "cell_type": "markdown",
   "metadata": {},
   "source": [
    "What is the hypotenuse of a right angle with sides of 3in and 4in?"
   ]
  },
  {
   "cell_type": "code",
   "execution_count": 72,
   "metadata": {},
   "outputs": [
    {
     "data": {
      "text/plain": [
       "5.0"
      ]
     },
     "execution_count": 72,
     "metadata": {},
     "output_type": "execute_result"
    }
   ],
   "source": [
    "geo.hypotenuse(3,4)"
   ]
  },
  {
   "cell_type": "code",
   "execution_count": null,
   "metadata": {},
   "outputs": [],
   "source": []
  }
 ],
 "metadata": {
  "kernelspec": {
   "display_name": "Python 3 (ipykernel)",
   "language": "python",
   "name": "python3"
  },
  "language_info": {
   "codemirror_mode": {
    "name": "ipython",
    "version": 3
   },
   "file_extension": ".py",
   "mimetype": "text/x-python",
   "name": "python",
   "nbconvert_exporter": "python",
   "pygments_lexer": "ipython3",
   "version": "3.9.13"
  }
 },
 "nbformat": 4,
 "nbformat_minor": 4
}
